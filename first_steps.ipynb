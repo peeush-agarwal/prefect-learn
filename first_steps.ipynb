{
 "cells": [
  {
   "cell_type": "markdown",
   "metadata": {},
   "source": [
    "## Run a basic flow"
   ]
  },
  {
   "cell_type": "code",
   "execution_count": 1,
   "metadata": {},
   "outputs": [],
   "source": [
    "from prefect import flow"
   ]
  },
  {
   "cell_type": "code",
   "execution_count": 2,
   "metadata": {},
   "outputs": [],
   "source": [
    "@flow\n",
    "def my_flow():\n",
    "    print(\"This function doesn't do much\")\n",
    "    return 42"
   ]
  },
  {
   "cell_type": "code",
   "execution_count": 3,
   "metadata": {},
   "outputs": [
    {
     "name": "stderr",
     "output_type": "stream",
     "text": [
      "09:42:52.697 | INFO    | prefect.engine - Created flow run 'arcane-antelope' for flow 'my-flow'\n",
      "09:42:52.699 | INFO    | Flow run 'arcane-antelope' - Using task runner 'ConcurrentTaskRunner'\n",
      "09:42:52.710 | WARNING | Flow run 'arcane-antelope' - No default storage is configured on the server. Results from this flow run will be stored in a temporary directory in its runtime environment.\n",
      "09:42:52.764 | INFO    | Flow run 'arcane-antelope' - Finished in state Completed()\n"
     ]
    },
    {
     "name": "stdout",
     "output_type": "stream",
     "text": [
      "This function doesn't do much\n"
     ]
    }
   ],
   "source": [
    "state = my_flow()"
   ]
  },
  {
   "cell_type": "code",
   "execution_count": 4,
   "metadata": {},
   "outputs": [
    {
     "name": "stdout",
     "output_type": "stream",
     "text": [
      "Completed()\n"
     ]
    }
   ],
   "source": [
    "print(state)"
   ]
  },
  {
   "cell_type": "code",
   "execution_count": 5,
   "metadata": {},
   "outputs": [
    {
     "name": "stdout",
     "output_type": "stream",
     "text": [
      "42\n"
     ]
    }
   ],
   "source": [
    "print(state.result())"
   ]
  },
  {
   "cell_type": "markdown",
   "metadata": {},
   "source": [
    "## Run flows with parameters"
   ]
  },
  {
   "cell_type": "code",
   "execution_count": 6,
   "metadata": {},
   "outputs": [],
   "source": [
    "import requests\n",
    "from prefect import flow"
   ]
  },
  {
   "cell_type": "code",
   "execution_count": 7,
   "metadata": {},
   "outputs": [],
   "source": [
    "@flow\n",
    "def call_api(url):\n",
    "    return requests.get(url).json()"
   ]
  },
  {
   "cell_type": "code",
   "execution_count": 8,
   "metadata": {},
   "outputs": [
    {
     "name": "stderr",
     "output_type": "stream",
     "text": [
      "09:46:25.095 | INFO    | prefect.engine - Created flow run 'ruby-reindeer' for flow 'call-api'\n",
      "09:46:25.096 | INFO    | Flow run 'ruby-reindeer' - Using task runner 'ConcurrentTaskRunner'\n",
      "09:46:25.104 | WARNING | Flow run 'ruby-reindeer' - No default storage is configured on the server. Results from this flow run will be stored in a temporary directory in its runtime environment.\n",
      "09:46:25.608 | INFO    | Flow run 'ruby-reindeer' - Finished in state Completed()\n"
     ]
    }
   ],
   "source": [
    "state = call_api(\"http://time.jsontest.com\")"
   ]
  },
  {
   "cell_type": "code",
   "execution_count": 9,
   "metadata": {},
   "outputs": [
    {
     "name": "stdout",
     "output_type": "stream",
     "text": [
      "Completed()\n"
     ]
    }
   ],
   "source": [
    "print(state)"
   ]
  },
  {
   "cell_type": "code",
   "execution_count": 10,
   "metadata": {},
   "outputs": [
    {
     "name": "stdout",
     "output_type": "stream",
     "text": [
      "{'date': '06-02-2022', 'milliseconds_since_epoch': 1654143385433, 'time': '04:16:25 AM'}\n"
     ]
    }
   ],
   "source": [
    "print(state.result())"
   ]
  },
  {
   "cell_type": "markdown",
   "metadata": {},
   "source": [
    "### Error handling"
   ]
  },
  {
   "cell_type": "code",
   "execution_count": 11,
   "metadata": {},
   "outputs": [
    {
     "name": "stderr",
     "output_type": "stream",
     "text": [
      "09:47:17.103 | INFO    | prefect.engine - Created flow run 'fascinating-coot' for flow 'call-api'\n",
      "09:47:17.105 | INFO    | Flow run 'fascinating-coot' - Using task runner 'ConcurrentTaskRunner'\n",
      "09:47:17.114 | WARNING | Flow run 'fascinating-coot' - No default storage is configured on the server. Results from this flow run will be stored in a temporary directory in its runtime environment.\n",
      "09:47:17.234 | ERROR   | Flow run 'fascinating-coot' - Encountered exception during execution:\n",
      "Traceback (most recent call last):\n",
      "  File \"/home/lenovo/miniconda3/envs/prefect-env/lib/python3.9/site-packages/prefect/engine.py\", line 468, in orchestrate_flow_run\n",
      "    result = await run_sync_in_worker_thread(flow_call)\n",
      "  File \"/home/lenovo/miniconda3/envs/prefect-env/lib/python3.9/site-packages/prefect/utilities/asyncio.py\", line 54, in run_sync_in_worker_thread\n",
      "    return await anyio.to_thread.run_sync(call, cancellable=True)\n",
      "  File \"/home/lenovo/miniconda3/envs/prefect-env/lib/python3.9/site-packages/anyio/to_thread.py\", line 31, in run_sync\n",
      "    return await get_asynclib().run_sync_in_worker_thread(\n",
      "  File \"/home/lenovo/miniconda3/envs/prefect-env/lib/python3.9/site-packages/anyio/_backends/_asyncio.py\", line 937, in run_sync_in_worker_thread\n",
      "    return await future\n",
      "  File \"/home/lenovo/miniconda3/envs/prefect-env/lib/python3.9/site-packages/anyio/_backends/_asyncio.py\", line 867, in run\n",
      "    result = context.run(func, *args)\n",
      "  File \"/tmp/ipykernel_490331/3050011820.py\", line 3, in call_api\n",
      "    return requests.get(url).json()\n",
      "  File \"/home/lenovo/miniconda3/envs/prefect-env/lib/python3.9/site-packages/requests/api.py\", line 75, in get\n",
      "    return request('get', url, params=params, **kwargs)\n",
      "  File \"/home/lenovo/miniconda3/envs/prefect-env/lib/python3.9/site-packages/requests/api.py\", line 61, in request\n",
      "    return session.request(method=method, url=url, **kwargs)\n",
      "  File \"/home/lenovo/miniconda3/envs/prefect-env/lib/python3.9/site-packages/requests/sessions.py\", line 515, in request\n",
      "    prep = self.prepare_request(req)\n",
      "  File \"/home/lenovo/miniconda3/envs/prefect-env/lib/python3.9/site-packages/requests/sessions.py\", line 443, in prepare_request\n",
      "    p.prepare(\n",
      "  File \"/home/lenovo/miniconda3/envs/prefect-env/lib/python3.9/site-packages/requests/models.py\", line 318, in prepare\n",
      "    self.prepare_url(url, params)\n",
      "  File \"/home/lenovo/miniconda3/envs/prefect-env/lib/python3.9/site-packages/requests/models.py\", line 392, in prepare_url\n",
      "    raise MissingSchema(error)\n",
      "requests.exceptions.MissingSchema: Invalid URL 'foo': No scheme supplied. Perhaps you meant http://foo?\n",
      "09:47:17.285 | ERROR   | Flow run 'fascinating-coot' - Finished in state Failed('Flow run encountered an exception.')\n"
     ]
    }
   ],
   "source": [
    "state = call_api(\"foo\")"
   ]
  },
  {
   "cell_type": "code",
   "execution_count": 12,
   "metadata": {},
   "outputs": [
    {
     "name": "stdout",
     "output_type": "stream",
     "text": [
      "Failed('Flow run encountered an exception.')\n"
     ]
    }
   ],
   "source": [
    "print(state)"
   ]
  },
  {
   "cell_type": "markdown",
   "metadata": {},
   "source": [
    "## Run a basic flow with tasks"
   ]
  },
  {
   "cell_type": "code",
   "execution_count": 14,
   "metadata": {},
   "outputs": [],
   "source": [
    "import requests\n",
    "from prefect import flow, task\n",
    "\n",
    "@task\n",
    "def call_api(url):\n",
    "    response = requests.get(url)\n",
    "    print(response.status_code)\n",
    "    return response.json()\n",
    "\n",
    "@flow\n",
    "def api_flow(url):\n",
    "    fact_json = call_api(url)\n",
    "    return"
   ]
  },
  {
   "cell_type": "code",
   "execution_count": 15,
   "metadata": {},
   "outputs": [
    {
     "name": "stderr",
     "output_type": "stream",
     "text": [
      "09:50:17.825 | INFO    | prefect.engine - Created flow run 'ebony-elk' for flow 'api-flow'\n",
      "09:50:17.825 | INFO    | Flow run 'ebony-elk' - Using task runner 'ConcurrentTaskRunner'\n",
      "09:50:17.833 | WARNING | Flow run 'ebony-elk' - No default storage is configured on the server. Results from this flow run will be stored in a temporary directory in its runtime environment.\n",
      "09:50:17.895 | INFO    | Flow run 'ebony-elk' - Created task run 'call_api-190c7484-0' for task 'call_api'\n"
     ]
    },
    {
     "name": "stdout",
     "output_type": "stream",
     "text": [
      "200\n"
     ]
    },
    {
     "name": "stderr",
     "output_type": "stream",
     "text": [
      "09:50:19.690 | INFO    | Task run 'call_api-190c7484-0' - Finished in state Completed()\n",
      "09:50:19.722 | INFO    | Flow run 'ebony-elk' - Finished in state Completed('All states completed.')\n"
     ]
    }
   ],
   "source": [
    "state = api_flow(\"https://catfact.ninja/fact\")"
   ]
  },
  {
   "cell_type": "code",
   "execution_count": 16,
   "metadata": {},
   "outputs": [],
   "source": [
    "import requests\n",
    "from prefect import flow, task\n",
    "\n",
    "@task\n",
    "def call_api(url):\n",
    "    response = requests.get(url)\n",
    "    print(response.status_code)\n",
    "    return response.json()\n",
    "\n",
    "@task\n",
    "def parse_fact(json):\n",
    "    print(json[\"fact\"])\n",
    "    return\n",
    "\n",
    "@flow\n",
    "def api_flow(url):\n",
    "    fact_json = call_api(url)\n",
    "    parse_fact(fact_json)\n",
    "    return"
   ]
  },
  {
   "cell_type": "code",
   "execution_count": 17,
   "metadata": {},
   "outputs": [
    {
     "name": "stderr",
     "output_type": "stream",
     "text": [
      "09:51:51.033 | INFO    | prefect.engine - Created flow run 'massive-akita' for flow 'api-flow'\n",
      "09:51:51.034 | INFO    | Flow run 'massive-akita' - Using task runner 'ConcurrentTaskRunner'\n",
      "09:51:51.043 | WARNING | Flow run 'massive-akita' - No default storage is configured on the server. Results from this flow run will be stored in a temporary directory in its runtime environment.\n",
      "09:51:51.107 | INFO    | Flow run 'massive-akita' - Created task run 'call_api-190c7484-0' for task 'call_api'\n",
      "09:51:51.148 | INFO    | Flow run 'massive-akita' - Created task run 'parse_fact-b0346046-0' for task 'parse_fact'\n"
     ]
    },
    {
     "name": "stdout",
     "output_type": "stream",
     "text": [
      "200\n"
     ]
    },
    {
     "name": "stderr",
     "output_type": "stream",
     "text": [
      "09:51:53.694 | INFO    | Task run 'call_api-190c7484-0' - Finished in state Completed()\n"
     ]
    },
    {
     "name": "stdout",
     "output_type": "stream",
     "text": [
      "Approximately 24 cat skins can make a coat.\n"
     ]
    },
    {
     "name": "stderr",
     "output_type": "stream",
     "text": [
      "09:51:54.535 | INFO    | Task run 'parse_fact-b0346046-0' - Finished in state Completed()\n",
      "09:51:54.560 | INFO    | Flow run 'massive-akita' - Finished in state Completed('All states completed.')\n"
     ]
    }
   ],
   "source": [
    "state = api_flow(\"https://catfact.ninja/fact\")"
   ]
  },
  {
   "cell_type": "markdown",
   "metadata": {},
   "source": [
    "## Run a flow within a flow"
   ]
  },
  {
   "cell_type": "code",
   "execution_count": 18,
   "metadata": {},
   "outputs": [],
   "source": [
    "from prefect import flow\n",
    "\n",
    "@flow\n",
    "def common_flow(config: dict):\n",
    "    print(\"I am a subgraph that shows up in lots of places!\")\n",
    "    intermediate_result = 42\n",
    "    return intermediate_result\n",
    "\n",
    "@flow\n",
    "def main_flow():\n",
    "    # do some things\n",
    "    # then call another flow function\n",
    "    data = common_flow(config={})\n",
    "    # do more things"
   ]
  },
  {
   "cell_type": "code",
   "execution_count": 19,
   "metadata": {},
   "outputs": [
    {
     "name": "stderr",
     "output_type": "stream",
     "text": [
      "09:52:48.975 | INFO    | prefect.engine - Created flow run 'burgundy-coot' for flow 'main-flow'\n",
      "09:52:48.976 | INFO    | Flow run 'burgundy-coot' - Using task runner 'ConcurrentTaskRunner'\n",
      "09:52:48.986 | WARNING | Flow run 'burgundy-coot' - No default storage is configured on the server. Results from this flow run will be stored in a temporary directory in its runtime environment.\n",
      "09:52:49.118 | INFO    | Flow run 'burgundy-coot' - Created subflow run 'zippy-impala' for flow 'common-flow'\n",
      "09:52:49.193 | INFO    | Flow run 'zippy-impala' - Finished in state Completed()\n",
      "09:52:49.217 | INFO    | Flow run 'burgundy-coot' - Finished in state Completed('All states completed.')\n"
     ]
    },
    {
     "name": "stdout",
     "output_type": "stream",
     "text": [
      "I am a subgraph that shows up in lots of places!\n"
     ]
    }
   ],
   "source": [
    "flow_state = main_flow()"
   ]
  },
  {
   "cell_type": "markdown",
   "metadata": {},
   "source": [
    "## Asynchronous functions"
   ]
  },
  {
   "cell_type": "code",
   "execution_count": 20,
   "metadata": {},
   "outputs": [],
   "source": [
    "import requests\n",
    "import asyncio\n",
    "from prefect import flow, task\n",
    "\n",
    "@task\n",
    "async def call_api(url):\n",
    "    response = requests.get(url)\n",
    "    print(response.status_code)\n",
    "    return response.json()\n",
    "\n",
    "@task\n",
    "def parse_fact(json):\n",
    "    print(json[\"fact\"])\n",
    "    return\n",
    "\n",
    "@flow\n",
    "async def api_flow(url):\n",
    "    fact_json = await call_api(url)\n",
    "    parse_fact(fact_json)\n",
    "    return"
   ]
  },
  {
   "cell_type": "code",
   "execution_count": 21,
   "metadata": {},
   "outputs": [
    {
     "ename": "RuntimeError",
     "evalue": "asyncio.run() cannot be called from a running event loop",
     "output_type": "error",
     "traceback": [
      "\u001b[0;31m---------------------------------------------------------------------------\u001b[0m",
      "\u001b[0;31mRuntimeError\u001b[0m                              Traceback (most recent call last)",
      "\u001b[1;32m/home/lenovo/PA-Data/Research/prefect-learn/first_steps.ipynb Cell 26'\u001b[0m in \u001b[0;36m<cell line: 1>\u001b[0;34m()\u001b[0m\n\u001b[0;32m----> <a href='vscode-notebook-cell:/home/lenovo/PA-Data/Research/prefect-learn/first_steps.ipynb#ch0000026?line=0'>1</a>\u001b[0m asyncio\u001b[39m.\u001b[39;49mrun(api_flow(\u001b[39m\"\u001b[39;49m\u001b[39mhttps://catfact.ninja/fact\u001b[39;49m\u001b[39m\"\u001b[39;49m))\n",
      "File \u001b[0;32m~/miniconda3/envs/prefect-env/lib/python3.9/asyncio/runners.py:33\u001b[0m, in \u001b[0;36mrun\u001b[0;34m(main, debug)\u001b[0m\n\u001b[1;32m      <a href='file:///home/lenovo/miniconda3/envs/prefect-env/lib/python3.9/asyncio/runners.py?line=8'>9</a>\u001b[0m \u001b[39m\"\"\"Execute the coroutine and return the result.\u001b[39;00m\n\u001b[1;32m     <a href='file:///home/lenovo/miniconda3/envs/prefect-env/lib/python3.9/asyncio/runners.py?line=9'>10</a>\u001b[0m \n\u001b[1;32m     <a href='file:///home/lenovo/miniconda3/envs/prefect-env/lib/python3.9/asyncio/runners.py?line=10'>11</a>\u001b[0m \u001b[39mThis function runs the passed coroutine, taking care of\u001b[39;00m\n\u001b[0;32m   (...)\u001b[0m\n\u001b[1;32m     <a href='file:///home/lenovo/miniconda3/envs/prefect-env/lib/python3.9/asyncio/runners.py?line=29'>30</a>\u001b[0m \u001b[39m    asyncio.run(main())\u001b[39;00m\n\u001b[1;32m     <a href='file:///home/lenovo/miniconda3/envs/prefect-env/lib/python3.9/asyncio/runners.py?line=30'>31</a>\u001b[0m \u001b[39m\"\"\"\u001b[39;00m\n\u001b[1;32m     <a href='file:///home/lenovo/miniconda3/envs/prefect-env/lib/python3.9/asyncio/runners.py?line=31'>32</a>\u001b[0m \u001b[39mif\u001b[39;00m events\u001b[39m.\u001b[39m_get_running_loop() \u001b[39mis\u001b[39;00m \u001b[39mnot\u001b[39;00m \u001b[39mNone\u001b[39;00m:\n\u001b[0;32m---> <a href='file:///home/lenovo/miniconda3/envs/prefect-env/lib/python3.9/asyncio/runners.py?line=32'>33</a>\u001b[0m     \u001b[39mraise\u001b[39;00m \u001b[39mRuntimeError\u001b[39;00m(\n\u001b[1;32m     <a href='file:///home/lenovo/miniconda3/envs/prefect-env/lib/python3.9/asyncio/runners.py?line=33'>34</a>\u001b[0m         \u001b[39m\"\u001b[39m\u001b[39masyncio.run() cannot be called from a running event loop\u001b[39m\u001b[39m\"\u001b[39m)\n\u001b[1;32m     <a href='file:///home/lenovo/miniconda3/envs/prefect-env/lib/python3.9/asyncio/runners.py?line=35'>36</a>\u001b[0m \u001b[39mif\u001b[39;00m \u001b[39mnot\u001b[39;00m coroutines\u001b[39m.\u001b[39miscoroutine(main):\n\u001b[1;32m     <a href='file:///home/lenovo/miniconda3/envs/prefect-env/lib/python3.9/asyncio/runners.py?line=36'>37</a>\u001b[0m     \u001b[39mraise\u001b[39;00m \u001b[39mValueError\u001b[39;00m(\u001b[39m\"\u001b[39m\u001b[39ma coroutine was expected, got \u001b[39m\u001b[39m{!r}\u001b[39;00m\u001b[39m\"\u001b[39m\u001b[39m.\u001b[39mformat(main))\n",
      "\u001b[0;31mRuntimeError\u001b[0m: asyncio.run() cannot be called from a running event loop"
     ]
    }
   ],
   "source": [
    "asyncio.run(api_flow(\"https://catfact.ninja/fact\"))"
   ]
  },
  {
   "cell_type": "code",
   "execution_count": null,
   "metadata": {},
   "outputs": [],
   "source": []
  }
 ],
 "metadata": {
  "interpreter": {
   "hash": "4ed00a24b83694380d052d0c2103aea9cde795273e714f61ee6512c1d1e10774"
  },
  "kernelspec": {
   "display_name": "Python 3.9.13 ('prefect-env')",
   "language": "python",
   "name": "python3"
  },
  "language_info": {
   "codemirror_mode": {
    "name": "ipython",
    "version": 3
   },
   "file_extension": ".py",
   "mimetype": "text/x-python",
   "name": "python",
   "nbconvert_exporter": "python",
   "pygments_lexer": "ipython3",
   "version": "3.9.13"
  },
  "orig_nbformat": 4
 },
 "nbformat": 4,
 "nbformat_minor": 2
}
