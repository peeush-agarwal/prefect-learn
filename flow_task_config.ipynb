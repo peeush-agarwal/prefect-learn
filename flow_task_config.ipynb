{
 "cells": [
  {
   "cell_type": "markdown",
   "metadata": {},
   "source": [
    "# Flow and task configuration\n",
    "\n",
    "[Reference](https://orion-docs.prefect.io/tutorials/flow-task-config/)"
   ]
  },
  {
   "cell_type": "markdown",
   "metadata": {},
   "source": [
    "## Basic flow configuration"
   ]
  },
  {
   "cell_type": "code",
   "execution_count": 1,
   "metadata": {},
   "outputs": [],
   "source": [
    "from prefect import flow"
   ]
  },
  {
   "cell_type": "code",
   "execution_count": 2,
   "metadata": {},
   "outputs": [],
   "source": [
    "@flow(name=\"My example flow\")\n",
    "def my_flow():\n",
    "    print(\"nothing much\")\n",
    "    return 42"
   ]
  },
  {
   "cell_type": "code",
   "execution_count": 3,
   "metadata": {},
   "outputs": [
    {
     "name": "stderr",
     "output_type": "stream",
     "text": [
      "16:39:51.154 | INFO    | prefect.engine - Created flow run 'aquatic-magpie' for flow 'My example flow'\n",
      "16:39:51.154 | INFO    | Flow run 'aquatic-magpie' - Using task runner 'ConcurrentTaskRunner'\n",
      "16:39:51.163 | WARNING | Flow run 'aquatic-magpie' - No default storage is configured on the server. Results from this flow run will be stored in a temporary directory in its runtime environment.\n",
      "16:39:51.221 | INFO    | Flow run 'aquatic-magpie' - Finished in state Completed()\n"
     ]
    },
    {
     "name": "stdout",
     "output_type": "stream",
     "text": [
      "nothing much\n"
     ]
    }
   ],
   "source": [
    "state = my_flow()"
   ]
  },
  {
   "cell_type": "code",
   "execution_count": 6,
   "metadata": {},
   "outputs": [],
   "source": [
    "@flow(name=\"My example flow\",\n",
    "      description=\"An example flow for a tutorial.\")\n",
    "def my_flow():\n",
    "    print(\"Flow with description\")\n",
    "    return 42"
   ]
  },
  {
   "cell_type": "code",
   "execution_count": 7,
   "metadata": {},
   "outputs": [
    {
     "name": "stderr",
     "output_type": "stream",
     "text": [
      "08:14:55.468 | INFO    | prefect.engine - Created flow run 'sweet-duck' for flow 'My example flow'\n",
      "08:14:55.469 | INFO    | Flow run 'sweet-duck' - Using task runner 'ConcurrentTaskRunner'\n",
      "08:14:55.478 | WARNING | Flow run 'sweet-duck' - No default storage is configured on the server. Results from this flow run will be stored in a temporary directory in its runtime environment.\n",
      "08:14:55.538 | INFO    | Flow run 'sweet-duck' - Finished in state Completed()\n"
     ]
    },
    {
     "name": "stdout",
     "output_type": "stream",
     "text": [
      "Flow with description\n"
     ]
    }
   ],
   "source": [
    "state = my_flow()"
   ]
  },
  {
   "cell_type": "code",
   "execution_count": 9,
   "metadata": {},
   "outputs": [],
   "source": [
    "@flow(name=\"My example flow\")\n",
    "def my_flow():\n",
    "    \"\"\"An example flow for a tutorial.\"\"\"\n",
    "    print(\"Flow with description in the docstring\")\n",
    "    return 42"
   ]
  },
  {
   "cell_type": "code",
   "execution_count": 10,
   "metadata": {},
   "outputs": [
    {
     "name": "stderr",
     "output_type": "stream",
     "text": [
      "08:16:45.760 | INFO    | prefect.engine - Created flow run 'demonic-chicken' for flow 'My example flow'\n",
      "08:16:45.761 | INFO    | Flow run 'demonic-chicken' - Using task runner 'ConcurrentTaskRunner'\n",
      "08:16:45.770 | WARNING | Flow run 'demonic-chicken' - No default storage is configured on the server. Results from this flow run will be stored in a temporary directory in its runtime environment.\n",
      "08:16:45.865 | INFO    | Flow run 'demonic-chicken' - Finished in state Completed()\n"
     ]
    },
    {
     "name": "stdout",
     "output_type": "stream",
     "text": [
      "Flow with description in the docstring\n"
     ]
    }
   ],
   "source": [
    "state = my_flow()"
   ]
  },
  {
   "cell_type": "code",
   "execution_count": 11,
   "metadata": {},
   "outputs": [],
   "source": [
    "@flow(name=\"My example flow\",\n",
    "      description=\"An example flow for a tutorial.\",\n",
    "      version=\"tutorial_02\")\n",
    "def my_flow():\n",
    "    print(\"Flow with description and version\")\n",
    "    return 42"
   ]
  },
  {
   "cell_type": "code",
   "execution_count": 12,
   "metadata": {},
   "outputs": [
    {
     "name": "stderr",
     "output_type": "stream",
     "text": [
      "08:17:52.348 | INFO    | prefect.engine - Created flow run 'sloppy-millipede' for flow 'My example flow'\n",
      "08:17:52.357 | INFO    | Flow run 'sloppy-millipede' - Using task runner 'ConcurrentTaskRunner'\n",
      "08:17:52.369 | WARNING | Flow run 'sloppy-millipede' - No default storage is configured on the server. Results from this flow run will be stored in a temporary directory in its runtime environment.\n",
      "08:17:52.433 | INFO    | Flow run 'sloppy-millipede' - Finished in state Completed()\n"
     ]
    },
    {
     "name": "stdout",
     "output_type": "stream",
     "text": [
      "Flow with description and version\n"
     ]
    }
   ],
   "source": [
    "state = my_flow()"
   ]
  },
  {
   "cell_type": "code",
   "execution_count": 13,
   "metadata": {},
   "outputs": [],
   "source": [
    "import os\n",
    "\n",
    "@flow(name=\"My example flow\",\n",
    "      description=\"An example flow for a tutorial.\",\n",
    "      version=os.getenv(\"GIT_COMMIT_SHA\"))\n",
    "def my_flow():\n",
    "    print(\"Flow with description and Git commit hash ID as version\")\n",
    "    return 42"
   ]
  },
  {
   "cell_type": "code",
   "execution_count": 14,
   "metadata": {},
   "outputs": [
    {
     "name": "stderr",
     "output_type": "stream",
     "text": [
      "08:19:27.502 | INFO    | prefect.engine - Created flow run 'amaranth-chinchilla' for flow 'My example flow'\n",
      "08:19:27.503 | INFO    | Flow run 'amaranth-chinchilla' - Using task runner 'ConcurrentTaskRunner'\n",
      "08:19:27.513 | WARNING | Flow run 'amaranth-chinchilla' - No default storage is configured on the server. Results from this flow run will be stored in a temporary directory in its runtime environment.\n",
      "08:19:27.581 | INFO    | Flow run 'amaranth-chinchilla' - Finished in state Completed()\n"
     ]
    },
    {
     "name": "stdout",
     "output_type": "stream",
     "text": [
      "Flow with description and Git commit hash ID as version\n"
     ]
    }
   ],
   "source": [
    "state = my_flow()"
   ]
  },
  {
   "cell_type": "markdown",
   "metadata": {},
   "source": [
    "### Parameter type conversion"
   ]
  },
  {
   "cell_type": "code",
   "execution_count": 15,
   "metadata": {},
   "outputs": [],
   "source": [
    "from prefect import task, flow\n",
    "\n",
    "@task\n",
    "def printer(obj):\n",
    "    print(f\"Received a {type(obj)} with value {obj}\")\n",
    "\n",
    "# note that we define the flow with type hints\n",
    "@flow\n",
    "def validation_flow(x: int, y: str):\n",
    "    printer(x)\n",
    "    printer(y)\n"
   ]
  },
  {
   "cell_type": "code",
   "execution_count": 16,
   "metadata": {},
   "outputs": [
    {
     "name": "stderr",
     "output_type": "stream",
     "text": [
      "08:21:17.083 | INFO    | prefect.engine - Created flow run 'outgoing-kittiwake' for flow 'validation-flow'\n",
      "08:21:17.084 | INFO    | Flow run 'outgoing-kittiwake' - Using task runner 'ConcurrentTaskRunner'\n",
      "08:21:17.091 | WARNING | Flow run 'outgoing-kittiwake' - No default storage is configured on the server. Results from this flow run will be stored in a temporary directory in its runtime environment.\n",
      "08:21:17.155 | INFO    | Flow run 'outgoing-kittiwake' - Created task run 'printer-da44fb11-0' for task 'printer'\n",
      "08:21:17.197 | INFO    | Flow run 'outgoing-kittiwake' - Created task run 'printer-da44fb11-1' for task 'printer'\n"
     ]
    },
    {
     "name": "stdout",
     "output_type": "stream",
     "text": [
      "Received a <class 'int'> with value 42\n",
      "Received a <class 'str'> with value 100\n"
     ]
    },
    {
     "name": "stderr",
     "output_type": "stream",
     "text": [
      "08:21:18.061 | INFO    | Task run 'printer-da44fb11-0' - Finished in state Completed()\n",
      "08:21:18.305 | INFO    | Task run 'printer-da44fb11-1' - Finished in state Completed()\n",
      "08:21:18.336 | INFO    | Flow run 'outgoing-kittiwake' - Finished in state Completed('All states completed.')\n"
     ]
    },
    {
     "data": {
      "text/plain": [
       "Completed(message='All states completed.', type=COMPLETED, result=[Completed(message=None, type=COMPLETED, result=None, task_run_id=08df5462-2b74-4845-804d-448c82ec261f), Completed(message=None, type=COMPLETED, result=None, task_run_id=a82385a5-6ec1-4fa7-b892-dde93e252023)], flow_run_id=32ffe024-1696-44b9-86f5-f33209470cf6)"
      ]
     },
     "execution_count": 16,
     "metadata": {},
     "output_type": "execute_result"
    }
   ],
   "source": [
    "validation_flow(x=\"42\", y=100)"
   ]
  },
  {
   "cell_type": "code",
   "execution_count": 17,
   "metadata": {},
   "outputs": [],
   "source": [
    "from prefect import flow\n",
    "from pydantic import BaseModel\n",
    "\n",
    "class Model(BaseModel):\n",
    "    a: int\n",
    "    b: float\n",
    "    c: str\n",
    "\n",
    "@flow\n",
    "def model_validator(model: Model):\n",
    "    printer(model)\n"
   ]
  },
  {
   "cell_type": "code",
   "execution_count": 18,
   "metadata": {},
   "outputs": [
    {
     "name": "stderr",
     "output_type": "stream",
     "text": [
      "08:22:26.699 | INFO    | prefect.engine - Created flow run 'violet-goose' for flow 'model-validator'\n",
      "08:22:26.699 | INFO    | Flow run 'violet-goose' - Using task runner 'ConcurrentTaskRunner'\n",
      "08:22:26.708 | WARNING | Flow run 'violet-goose' - No default storage is configured on the server. Results from this flow run will be stored in a temporary directory in its runtime environment.\n",
      "08:22:26.788 | INFO    | Flow run 'violet-goose' - Created task run 'printer-da44fb11-2' for task 'printer'\n"
     ]
    },
    {
     "name": "stdout",
     "output_type": "stream",
     "text": [
      "Received a <class '__main__.Model'> with value a=42 b=0.0 c='55'\n"
     ]
    },
    {
     "name": "stderr",
     "output_type": "stream",
     "text": [
      "08:22:27.509 | INFO    | Task run 'printer-da44fb11-2' - Finished in state Completed()\n",
      "08:22:27.533 | INFO    | Flow run 'violet-goose' - Finished in state Completed('All states completed.')\n"
     ]
    },
    {
     "data": {
      "text/plain": [
       "Completed(message='All states completed.', type=COMPLETED, result=[Completed(message=None, type=COMPLETED, result=None, task_run_id=9da027af-2615-4625-a207-7b093f14ffc8)], flow_run_id=89db6443-2a73-4dda-a11b-e333dfcc9a06)"
      ]
     },
     "execution_count": 18,
     "metadata": {},
     "output_type": "execute_result"
    }
   ],
   "source": [
    "model_validator({\"a\":42, \"b\":0, \"c\": 55})"
   ]
  },
  {
   "cell_type": "markdown",
   "metadata": {},
   "source": [
    "### Configuring task runners"
   ]
  },
  {
   "cell_type": "code",
   "execution_count": 19,
   "metadata": {},
   "outputs": [],
   "source": [
    "from prefect.task_runners import DaskTaskRunner\n",
    "\n",
    "@flow(name=\"My Example Flow\", \n",
    "      task_runner=DaskTaskRunner())\n",
    "def my_flow(*args, **kwargs):\n",
    "    # run parallel tasks and subflows with Dask\n",
    "    pass"
   ]
  },
  {
   "cell_type": "markdown",
   "metadata": {},
   "source": [
    "## Basic task configuration"
   ]
  },
  {
   "cell_type": "code",
   "execution_count": 20,
   "metadata": {},
   "outputs": [],
   "source": [
    "import time\n",
    "\n",
    "@task(name=\"My Example Task\", \n",
    "      description=\"An example task for a tutorial.\")\n",
    "def my_task():\n",
    "    # do some work\n",
    "    for i in range(5):\n",
    "        time.sleep(5)\n"
   ]
  },
  {
   "cell_type": "code",
   "execution_count": 21,
   "metadata": {},
   "outputs": [],
   "source": [
    "@task(name=\"My Example Task\", \n",
    "      description=\"An example task for a tutorial.\",\n",
    "      tags=[\"tutorial\", \"tag-test\"])\n",
    "def my_task():\n",
    "    # do some work\n",
    "    for i in range(5):\n",
    "        time.sleep(5)"
   ]
  },
  {
   "cell_type": "markdown",
   "metadata": {},
   "source": [
    "## Task retries"
   ]
  },
  {
   "cell_type": "code",
   "execution_count": 22,
   "metadata": {},
   "outputs": [],
   "source": [
    "from prefect import task, flow\n",
    "\n",
    "@task(retries=2, retry_delay_seconds=0)\n",
    "def failure():\n",
    "    print('running')\n",
    "    raise ValueError(\"bad code\")\n",
    "\n",
    "@flow\n",
    "def test_retries():\n",
    "    return failure()\n"
   ]
  },
  {
   "cell_type": "code",
   "execution_count": 23,
   "metadata": {},
   "outputs": [
    {
     "name": "stderr",
     "output_type": "stream",
     "text": [
      "08:27:49.118 | INFO    | prefect.engine - Created flow run 'hallowed-flounder' for flow 'test-retries'\n",
      "08:27:49.118 | INFO    | Flow run 'hallowed-flounder' - Using task runner 'ConcurrentTaskRunner'\n",
      "08:27:49.128 | WARNING | Flow run 'hallowed-flounder' - No default storage is configured on the server. Results from this flow run will be stored in a temporary directory in its runtime environment.\n",
      "08:27:49.185 | INFO    | Flow run 'hallowed-flounder' - Created task run 'failure-acc38180-0' for task 'failure'\n",
      "08:27:49.662 | ERROR   | Task run 'failure-acc38180-0' - Encountered exception during execution:\n",
      "Traceback (most recent call last):\n",
      "  File \"/home/lenovo/miniconda3/envs/prefect-env/lib/python3.9/site-packages/prefect/engine.py\", line 798, in orchestrate_task_run\n",
      "    result = await run_sync_in_worker_thread(task.fn, *args, **kwargs)\n",
      "  File \"/home/lenovo/miniconda3/envs/prefect-env/lib/python3.9/site-packages/prefect/utilities/asyncio.py\", line 54, in run_sync_in_worker_thread\n",
      "    return await anyio.to_thread.run_sync(call, cancellable=True)\n",
      "  File \"/home/lenovo/miniconda3/envs/prefect-env/lib/python3.9/site-packages/anyio/to_thread.py\", line 31, in run_sync\n",
      "    return await get_asynclib().run_sync_in_worker_thread(\n",
      "  File \"/home/lenovo/miniconda3/envs/prefect-env/lib/python3.9/site-packages/anyio/_backends/_asyncio.py\", line 937, in run_sync_in_worker_thread\n",
      "    return await future\n",
      "  File \"/home/lenovo/miniconda3/envs/prefect-env/lib/python3.9/site-packages/anyio/_backends/_asyncio.py\", line 867, in run\n",
      "    result = context.run(func, *args)\n",
      "  File \"/tmp/ipykernel_525143/1243553180.py\", line 6, in failure\n",
      "    raise ValueError(\"bad code\")\n",
      "ValueError: bad code\n"
     ]
    },
    {
     "name": "stdout",
     "output_type": "stream",
     "text": [
      "running\n"
     ]
    },
    {
     "name": "stderr",
     "output_type": "stream",
     "text": [
      "08:27:49.966 | INFO    | Task run 'failure-acc38180-0' - Received non-final state 'AwaitingRetry' when proposing final state 'Failed' and will attempt to run again...\n",
      "08:27:50.176 | ERROR   | Task run 'failure-acc38180-0' - Encountered exception during execution:\n",
      "Traceback (most recent call last):\n",
      "  File \"/home/lenovo/miniconda3/envs/prefect-env/lib/python3.9/site-packages/prefect/engine.py\", line 798, in orchestrate_task_run\n",
      "    result = await run_sync_in_worker_thread(task.fn, *args, **kwargs)\n",
      "  File \"/home/lenovo/miniconda3/envs/prefect-env/lib/python3.9/site-packages/prefect/utilities/asyncio.py\", line 54, in run_sync_in_worker_thread\n",
      "    return await anyio.to_thread.run_sync(call, cancellable=True)\n",
      "  File \"/home/lenovo/miniconda3/envs/prefect-env/lib/python3.9/site-packages/anyio/to_thread.py\", line 31, in run_sync\n",
      "    return await get_asynclib().run_sync_in_worker_thread(\n",
      "  File \"/home/lenovo/miniconda3/envs/prefect-env/lib/python3.9/site-packages/anyio/_backends/_asyncio.py\", line 937, in run_sync_in_worker_thread\n",
      "    return await future\n",
      "  File \"/home/lenovo/miniconda3/envs/prefect-env/lib/python3.9/site-packages/anyio/_backends/_asyncio.py\", line 867, in run\n",
      "    result = context.run(func, *args)\n",
      "  File \"/tmp/ipykernel_525143/1243553180.py\", line 6, in failure\n",
      "    raise ValueError(\"bad code\")\n",
      "ValueError: bad code\n"
     ]
    },
    {
     "name": "stdout",
     "output_type": "stream",
     "text": [
      "running\n"
     ]
    },
    {
     "name": "stderr",
     "output_type": "stream",
     "text": [
      "08:27:50.614 | INFO    | Task run 'failure-acc38180-0' - Received non-final state 'AwaitingRetry' when proposing final state 'Failed' and will attempt to run again...\n",
      "08:27:51.232 | ERROR   | Task run 'failure-acc38180-0' - Encountered exception during execution:\n",
      "Traceback (most recent call last):\n",
      "  File \"/home/lenovo/miniconda3/envs/prefect-env/lib/python3.9/site-packages/prefect/engine.py\", line 798, in orchestrate_task_run\n",
      "    result = await run_sync_in_worker_thread(task.fn, *args, **kwargs)\n",
      "  File \"/home/lenovo/miniconda3/envs/prefect-env/lib/python3.9/site-packages/prefect/utilities/asyncio.py\", line 54, in run_sync_in_worker_thread\n",
      "    return await anyio.to_thread.run_sync(call, cancellable=True)\n",
      "  File \"/home/lenovo/miniconda3/envs/prefect-env/lib/python3.9/site-packages/anyio/to_thread.py\", line 31, in run_sync\n",
      "    return await get_asynclib().run_sync_in_worker_thread(\n",
      "  File \"/home/lenovo/miniconda3/envs/prefect-env/lib/python3.9/site-packages/anyio/_backends/_asyncio.py\", line 937, in run_sync_in_worker_thread\n",
      "    return await future\n",
      "  File \"/home/lenovo/miniconda3/envs/prefect-env/lib/python3.9/site-packages/anyio/_backends/_asyncio.py\", line 867, in run\n",
      "    result = context.run(func, *args)\n",
      "  File \"/tmp/ipykernel_525143/1243553180.py\", line 6, in failure\n",
      "    raise ValueError(\"bad code\")\n",
      "ValueError: bad code\n"
     ]
    },
    {
     "name": "stdout",
     "output_type": "stream",
     "text": [
      "running\n"
     ]
    },
    {
     "name": "stderr",
     "output_type": "stream",
     "text": [
      "08:27:51.506 | ERROR   | Task run 'failure-acc38180-0' - Finished in state Failed('Task run encountered an exception.')\n",
      "08:27:51.547 | ERROR   | Flow run 'hallowed-flounder' - Finished in state Failed('1/1 states failed.')\n"
     ]
    },
    {
     "data": {
      "text/plain": [
       "Failed(message='1/1 states failed.', type=FAILED, result=Failed(message='Task run encountered an exception.', type=FAILED, result=ValueError('bad code'), task_run_id=23086027-61f7-4e8f-aa15-856daefe37a1), flow_run_id=aad45de9-de40-4cf5-bbc9-678be9f5879b)"
      ]
     },
     "execution_count": 23,
     "metadata": {},
     "output_type": "execute_result"
    }
   ],
   "source": [
    "test_retries()"
   ]
  },
  {
   "cell_type": "markdown",
   "metadata": {},
   "source": [
    "## Task caching"
   ]
  },
  {
   "cell_type": "markdown",
   "metadata": {},
   "source": [
    "### Task input hash"
   ]
  },
  {
   "cell_type": "code",
   "execution_count": 24,
   "metadata": {},
   "outputs": [],
   "source": [
    "from prefect import flow, task\n",
    "from prefect.tasks import task_input_hash\n",
    "from datetime import timedelta\n",
    "\n",
    "@task(cache_key_fn=task_input_hash, cache_expiration=timedelta(minutes=1))\n",
    "def hello_task(name_input):\n",
    "    print (f\"Saying hello {name_input}\")\n",
    "    return \"hello \" + name_input\n",
    "\n",
    "@flow\n",
    "def hello_flow(name_input):\n",
    "    hello_task(name_input)"
   ]
  },
  {
   "cell_type": "code",
   "execution_count": 25,
   "metadata": {},
   "outputs": [
    {
     "name": "stderr",
     "output_type": "stream",
     "text": [
      "08:34:22.211 | INFO    | prefect.engine - Created flow run 'aquatic-bear' for flow 'hello-flow'\n",
      "08:34:22.212 | INFO    | Flow run 'aquatic-bear' - Using task runner 'ConcurrentTaskRunner'\n",
      "08:34:22.221 | WARNING | Flow run 'aquatic-bear' - No default storage is configured on the server. Results from this flow run will be stored in a temporary directory in its runtime environment.\n",
      "08:34:22.292 | INFO    | Flow run 'aquatic-bear' - Created task run 'hello_task-e97fb216-0' for task 'hello_task'\n"
     ]
    },
    {
     "name": "stdout",
     "output_type": "stream",
     "text": [
      "Saying hello ABC\n"
     ]
    },
    {
     "name": "stderr",
     "output_type": "stream",
     "text": [
      "08:34:23.126 | INFO    | Task run 'hello_task-e97fb216-0' - Finished in state Completed()\n",
      "08:34:23.203 | INFO    | Flow run 'aquatic-bear' - Finished in state Completed('All states completed.')\n",
      "08:34:23.334 | INFO    | prefect.engine - Created flow run 'archetypal-mackerel' for flow 'hello-flow'\n",
      "08:34:23.335 | INFO    | Flow run 'archetypal-mackerel' - Using task runner 'ConcurrentTaskRunner'\n",
      "08:34:23.350 | WARNING | Flow run 'archetypal-mackerel' - No default storage is configured on the server. Results from this flow run will be stored in a temporary directory in its runtime environment.\n",
      "08:34:23.420 | INFO    | Flow run 'archetypal-mackerel' - Created task run 'hello_task-e97fb216-1' for task 'hello_task'\n"
     ]
    },
    {
     "name": "stdout",
     "output_type": "stream",
     "text": [
      "Completed('All states completed.')\n"
     ]
    },
    {
     "name": "stderr",
     "output_type": "stream",
     "text": [
      "08:34:23.521 | INFO    | Task run 'hello_task-e97fb216-1' - Finished in state Cached(, type=COMPLETED)\n",
      "08:34:23.579 | INFO    | Flow run 'archetypal-mackerel' - Finished in state Completed('All states completed.')\n",
      "08:34:23.726 | INFO    | prefect.engine - Created flow run 'pygmy-gecko' for flow 'hello-flow'\n",
      "08:34:23.727 | INFO    | Flow run 'pygmy-gecko' - Using task runner 'ConcurrentTaskRunner'\n",
      "08:34:23.734 | WARNING | Flow run 'pygmy-gecko' - No default storage is configured on the server. Results from this flow run will be stored in a temporary directory in its runtime environment.\n",
      "08:34:23.800 | INFO    | Flow run 'pygmy-gecko' - Created task run 'hello_task-e97fb216-2' for task 'hello_task'\n"
     ]
    },
    {
     "name": "stdout",
     "output_type": "stream",
     "text": [
      "Completed('All states completed.')\n"
     ]
    },
    {
     "name": "stderr",
     "output_type": "stream",
     "text": [
      "08:34:24.094 | INFO    | Task run 'hello_task-e97fb216-2' - Finished in state Cached(, type=COMPLETED)\n",
      "08:34:24.131 | INFO    | Flow run 'pygmy-gecko' - Finished in state Completed('All states completed.')\n",
      "08:34:24.245 | INFO    | prefect.engine - Created flow run 'dazzling-scorpion' for flow 'hello-flow'\n",
      "08:34:24.246 | INFO    | Flow run 'dazzling-scorpion' - Using task runner 'ConcurrentTaskRunner'\n",
      "08:34:24.253 | WARNING | Flow run 'dazzling-scorpion' - No default storage is configured on the server. Results from this flow run will be stored in a temporary directory in its runtime environment.\n",
      "08:34:24.332 | INFO    | Flow run 'dazzling-scorpion' - Created task run 'hello_task-e97fb216-3' for task 'hello_task'\n"
     ]
    },
    {
     "name": "stdout",
     "output_type": "stream",
     "text": [
      "Completed('All states completed.')\n",
      "Saying hello DEF\n"
     ]
    },
    {
     "name": "stderr",
     "output_type": "stream",
     "text": [
      "08:34:25.067 | INFO    | Task run 'hello_task-e97fb216-3' - Finished in state Completed()\n",
      "08:34:25.095 | INFO    | Flow run 'dazzling-scorpion' - Finished in state Completed('All states completed.')\n",
      "08:34:25.225 | INFO    | prefect.engine - Created flow run 'lumpy-scallop' for flow 'hello-flow'\n",
      "08:34:25.226 | INFO    | Flow run 'lumpy-scallop' - Using task runner 'ConcurrentTaskRunner'\n",
      "08:34:25.233 | WARNING | Flow run 'lumpy-scallop' - No default storage is configured on the server. Results from this flow run will be stored in a temporary directory in its runtime environment.\n",
      "08:34:25.314 | INFO    | Flow run 'lumpy-scallop' - Created task run 'hello_task-e97fb216-4' for task 'hello_task'\n"
     ]
    },
    {
     "name": "stdout",
     "output_type": "stream",
     "text": [
      "Completed('All states completed.')\n"
     ]
    },
    {
     "name": "stderr",
     "output_type": "stream",
     "text": [
      "08:34:25.858 | INFO    | Task run 'hello_task-e97fb216-4' - Finished in state Cached(, type=COMPLETED)\n",
      "08:34:25.881 | INFO    | Flow run 'lumpy-scallop' - Finished in state Completed('All states completed.')\n",
      "08:34:25.984 | INFO    | prefect.engine - Created flow run 'ivory-mosquito' for flow 'hello-flow'\n",
      "08:34:25.985 | INFO    | Flow run 'ivory-mosquito' - Using task runner 'ConcurrentTaskRunner'\n",
      "08:34:25.994 | WARNING | Flow run 'ivory-mosquito' - No default storage is configured on the server. Results from this flow run will be stored in a temporary directory in its runtime environment.\n",
      "08:34:26.049 | INFO    | Flow run 'ivory-mosquito' - Created task run 'hello_task-e97fb216-5' for task 'hello_task'\n"
     ]
    },
    {
     "name": "stdout",
     "output_type": "stream",
     "text": [
      "Completed('All states completed.')\n",
      "Saying hello GHI\n"
     ]
    },
    {
     "name": "stderr",
     "output_type": "stream",
     "text": [
      "08:34:26.743 | INFO    | Task run 'hello_task-e97fb216-5' - Finished in state Completed()\n",
      "08:34:26.778 | INFO    | Flow run 'ivory-mosquito' - Finished in state Completed('All states completed.')\n"
     ]
    },
    {
     "name": "stdout",
     "output_type": "stream",
     "text": [
      "Completed('All states completed.')\n"
     ]
    }
   ],
   "source": [
    "for name in [\"ABC\", \"ABC\", \"ABC\", \"DEF\", \"DEF\", \"GHI\"]:\n",
    "    print(hello_flow(name))"
   ]
  },
  {
   "cell_type": "markdown",
   "metadata": {},
   "source": [
    "### Cache key function"
   ]
  },
  {
   "cell_type": "code",
   "execution_count": 26,
   "metadata": {},
   "outputs": [],
   "source": [
    "from prefect import flow, task\n",
    "from datetime import timedelta\n",
    "import time\n",
    "\n",
    "def cache_key_from_sum(context, parameters):\n",
    "    print(parameters)\n",
    "    return sum(parameters[\"nums\"])\n",
    "\n",
    "@task(cache_key_fn=cache_key_from_sum, cache_expiration=timedelta(minutes=1))\n",
    "def cached_task(nums):\n",
    "    print('running an expensive operation')\n",
    "    time.sleep(3)\n",
    "    return sum(nums)\n",
    "\n",
    "@flow\n",
    "def test_caching(nums):\n",
    "    cached_task(nums)"
   ]
  },
  {
   "cell_type": "code",
   "execution_count": 27,
   "metadata": {},
   "outputs": [
    {
     "name": "stderr",
     "output_type": "stream",
     "text": [
      "08:41:31.995 | INFO    | prefect.engine - Created flow run 'flat-roadrunner' for flow 'test-caching'\n",
      "08:41:31.996 | INFO    | Flow run 'flat-roadrunner' - Using task runner 'ConcurrentTaskRunner'\n",
      "08:41:32.004 | WARNING | Flow run 'flat-roadrunner' - No default storage is configured on the server. Results from this flow run will be stored in a temporary directory in its runtime environment.\n",
      "08:41:32.200 | INFO    | Flow run 'flat-roadrunner' - Created task run 'cached_task-64beb460-0' for task 'cached_task'\n"
     ]
    },
    {
     "name": "stdout",
     "output_type": "stream",
     "text": [
      "{'nums': [2, 2]}\n",
      "running an expensive operation\n"
     ]
    },
    {
     "name": "stderr",
     "output_type": "stream",
     "text": [
      "08:41:36.043 | INFO    | Task run 'cached_task-64beb460-0' - Finished in state Completed()\n",
      "08:41:36.065 | INFO    | Flow run 'flat-roadrunner' - Finished in state Completed('All states completed.')\n"
     ]
    },
    {
     "data": {
      "text/plain": [
       "Completed(message='All states completed.', type=COMPLETED, result=[Completed(message=None, type=COMPLETED, result=4, task_run_id=7e85e214-c744-451b-8cba-ea673f09cae0)], flow_run_id=1baf7839-ddb0-4d22-8205-f4c9e3e748ca)"
      ]
     },
     "execution_count": 27,
     "metadata": {},
     "output_type": "execute_result"
    }
   ],
   "source": [
    "test_caching([2, 2])"
   ]
  },
  {
   "cell_type": "code",
   "execution_count": 28,
   "metadata": {},
   "outputs": [
    {
     "name": "stderr",
     "output_type": "stream",
     "text": [
      "08:41:56.812 | INFO    | prefect.engine - Created flow run 'vengeful-python' for flow 'test-caching'\n",
      "08:41:56.813 | INFO    | Flow run 'vengeful-python' - Using task runner 'ConcurrentTaskRunner'\n",
      "08:41:56.822 | WARNING | Flow run 'vengeful-python' - No default storage is configured on the server. Results from this flow run will be stored in a temporary directory in its runtime environment.\n",
      "08:41:56.890 | INFO    | Flow run 'vengeful-python' - Created task run 'cached_task-64beb460-1' for task 'cached_task'\n"
     ]
    },
    {
     "name": "stdout",
     "output_type": "stream",
     "text": [
      "{'nums': [2, 2]}\n"
     ]
    },
    {
     "name": "stderr",
     "output_type": "stream",
     "text": [
      "08:41:57.662 | INFO    | Task run 'cached_task-64beb460-1' - Finished in state Cached(, type=COMPLETED)\n",
      "08:41:57.689 | INFO    | Flow run 'vengeful-python' - Finished in state Completed('All states completed.')\n"
     ]
    },
    {
     "data": {
      "text/plain": [
       "Completed(message='All states completed.', type=COMPLETED, result=[Cached(message=None, type=COMPLETED, result=4, task_run_id=21599438-4c58-4be4-834b-4a8b1e0515bb)], flow_run_id=c404fe73-204d-4fe6-9858-2941e1450ac5)"
      ]
     },
     "execution_count": 28,
     "metadata": {},
     "output_type": "execute_result"
    }
   ],
   "source": [
    "test_caching([2, 2])"
   ]
  },
  {
   "cell_type": "code",
   "execution_count": 29,
   "metadata": {},
   "outputs": [
    {
     "name": "stderr",
     "output_type": "stream",
     "text": [
      "08:42:07.626 | INFO    | prefect.engine - Created flow run 'attractive-oarfish' for flow 'test-caching'\n",
      "08:42:07.626 | INFO    | Flow run 'attractive-oarfish' - Using task runner 'ConcurrentTaskRunner'\n",
      "08:42:07.634 | WARNING | Flow run 'attractive-oarfish' - No default storage is configured on the server. Results from this flow run will be stored in a temporary directory in its runtime environment.\n",
      "08:42:07.707 | INFO    | Flow run 'attractive-oarfish' - Created task run 'cached_task-64beb460-2' for task 'cached_task'\n"
     ]
    },
    {
     "name": "stdout",
     "output_type": "stream",
     "text": [
      "{'nums': [1, 3]}\n"
     ]
    },
    {
     "name": "stderr",
     "output_type": "stream",
     "text": [
      "08:42:08.040 | INFO    | Task run 'cached_task-64beb460-2' - Finished in state Cached(, type=COMPLETED)\n",
      "08:42:08.055 | INFO    | Flow run 'attractive-oarfish' - Finished in state Completed('All states completed.')\n"
     ]
    },
    {
     "data": {
      "text/plain": [
       "Completed(message='All states completed.', type=COMPLETED, result=[Cached(message=None, type=COMPLETED, result=4, task_run_id=767075db-e66c-493e-ad18-dfe7851ba861)], flow_run_id=0728a8d5-60ac-4e60-bc28-d774646ad9b5)"
      ]
     },
     "execution_count": 29,
     "metadata": {},
     "output_type": "execute_result"
    }
   ],
   "source": [
    "test_caching([1, 3])"
   ]
  },
  {
   "cell_type": "code",
   "execution_count": 30,
   "metadata": {},
   "outputs": [
    {
     "name": "stderr",
     "output_type": "stream",
     "text": [
      "08:42:18.880 | INFO    | prefect.engine - Created flow run 'daffodil-goshawk' for flow 'test-caching'\n",
      "08:42:18.880 | INFO    | Flow run 'daffodil-goshawk' - Using task runner 'ConcurrentTaskRunner'\n",
      "08:42:18.888 | WARNING | Flow run 'daffodil-goshawk' - No default storage is configured on the server. Results from this flow run will be stored in a temporary directory in its runtime environment.\n",
      "08:42:18.948 | INFO    | Flow run 'daffodil-goshawk' - Created task run 'cached_task-64beb460-3' for task 'cached_task'\n"
     ]
    },
    {
     "name": "stdout",
     "output_type": "stream",
     "text": [
      "{'nums': [3, 4]}\n",
      "running an expensive operation\n"
     ]
    },
    {
     "name": "stderr",
     "output_type": "stream",
     "text": [
      "08:42:22.720 | INFO    | Task run 'cached_task-64beb460-3' - Finished in state Completed()\n",
      "08:42:22.748 | INFO    | Flow run 'daffodil-goshawk' - Finished in state Completed('All states completed.')\n"
     ]
    },
    {
     "data": {
      "text/plain": [
       "Completed(message='All states completed.', type=COMPLETED, result=[Completed(message=None, type=COMPLETED, result=7, task_run_id=f7561409-3d6c-4fff-a50f-92004de33ce4)], flow_run_id=36109ce3-9eb0-46d2-a4d6-bda467672bfc)"
      ]
     },
     "execution_count": 30,
     "metadata": {},
     "output_type": "execute_result"
    }
   ],
   "source": [
    "test_caching([3, 4])"
   ]
  },
  {
   "cell_type": "code",
   "execution_count": null,
   "metadata": {},
   "outputs": [],
   "source": []
  }
 ],
 "metadata": {
  "interpreter": {
   "hash": "4ed00a24b83694380d052d0c2103aea9cde795273e714f61ee6512c1d1e10774"
  },
  "kernelspec": {
   "display_name": "Python 3.9.13 ('prefect-env')",
   "language": "python",
   "name": "python3"
  },
  "language_info": {
   "codemirror_mode": {
    "name": "ipython",
    "version": 3
   },
   "file_extension": ".py",
   "mimetype": "text/x-python",
   "name": "python",
   "nbconvert_exporter": "python",
   "pygments_lexer": "ipython3",
   "version": "3.9.13"
  },
  "orig_nbformat": 4
 },
 "nbformat": 4,
 "nbformat_minor": 2
}
